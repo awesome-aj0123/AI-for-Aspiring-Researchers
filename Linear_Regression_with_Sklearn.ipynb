{
  "nbformat": 4,
  "nbformat_minor": 0,
  "metadata": {
    "colab": {
      "name": "Linear Regression with Sklearn",
      "provenance": []
    },
    "kernelspec": {
      "name": "python3",
      "display_name": "Python 3"
    }
  },
  "cells": [
    {
      "cell_type": "code",
      "metadata": {
        "id": "hSInwa4aFFpW",
        "colab_type": "code",
        "colab": {
          "base_uri": "https://localhost:8080/",
          "height": 71
        },
        "outputId": "1eb30884-e45e-4136-b856-c31b3138a752"
      },
      "source": [
        "import numpy as np\n",
        "import pandas as pd\n",
        "import matplotlib.pyplot as plt\n",
        "from sklearn.linear_model import LinearRegression\n",
        "import datetime as dt\n",
        "import pandas_datareader.data as reader"
      ],
      "execution_count": null,
      "outputs": [
        {
          "output_type": "stream",
          "text": [
            "/usr/local/lib/python3.6/dist-packages/pandas_datareader/compat/__init__.py:7: FutureWarning: pandas.util.testing is deprecated. Use the functions in the public API at pandas.testing instead.\n",
            "  from pandas.util.testing import assert_frame_equal\n"
          ],
          "name": "stderr"
        }
      ]
    },
    {
      "cell_type": "code",
      "metadata": {
        "id": "prPF6lMTGjHY",
        "colab_type": "code",
        "colab": {
          "base_uri": "https://localhost:8080/",
          "height": 235
        },
        "outputId": "c2cb62ad-6f60-4742-cc5e-745c7affe9ad"
      },
      "source": [
        "start = dt.datetime(2016, 1, 1)\n",
        "df = reader.DataReader('SPY', 'yahoo', start)\n",
        "\n",
        "df.tail()"
      ],
      "execution_count": null,
      "outputs": [
        {
          "output_type": "execute_result",
          "data": {
            "text/html": [
              "<div>\n",
              "<style scoped>\n",
              "    .dataframe tbody tr th:only-of-type {\n",
              "        vertical-align: middle;\n",
              "    }\n",
              "\n",
              "    .dataframe tbody tr th {\n",
              "        vertical-align: top;\n",
              "    }\n",
              "\n",
              "    .dataframe thead th {\n",
              "        text-align: right;\n",
              "    }\n",
              "</style>\n",
              "<table border=\"1\" class=\"dataframe\">\n",
              "  <thead>\n",
              "    <tr style=\"text-align: right;\">\n",
              "      <th></th>\n",
              "      <th>High</th>\n",
              "      <th>Low</th>\n",
              "      <th>Open</th>\n",
              "      <th>Close</th>\n",
              "      <th>Volume</th>\n",
              "      <th>Adj Close</th>\n",
              "    </tr>\n",
              "    <tr>\n",
              "      <th>Date</th>\n",
              "      <th></th>\n",
              "      <th></th>\n",
              "      <th></th>\n",
              "      <th></th>\n",
              "      <th></th>\n",
              "      <th></th>\n",
              "    </tr>\n",
              "  </thead>\n",
              "  <tbody>\n",
              "    <tr>\n",
              "      <th>2020-05-18</th>\n",
              "      <td>296.750000</td>\n",
              "      <td>292.700012</td>\n",
              "      <td>293.049988</td>\n",
              "      <td>295.000000</td>\n",
              "      <td>120320200.0</td>\n",
              "      <td>295.000000</td>\n",
              "    </tr>\n",
              "    <tr>\n",
              "      <th>2020-05-19</th>\n",
              "      <td>296.209991</td>\n",
              "      <td>291.950012</td>\n",
              "      <td>294.350006</td>\n",
              "      <td>291.970001</td>\n",
              "      <td>95189300.0</td>\n",
              "      <td>291.970001</td>\n",
              "    </tr>\n",
              "    <tr>\n",
              "      <th>2020-05-20</th>\n",
              "      <td>297.869995</td>\n",
              "      <td>295.570007</td>\n",
              "      <td>295.820007</td>\n",
              "      <td>296.929993</td>\n",
              "      <td>85861700.0</td>\n",
              "      <td>296.929993</td>\n",
              "    </tr>\n",
              "    <tr>\n",
              "      <th>2020-05-21</th>\n",
              "      <td>297.670013</td>\n",
              "      <td>293.690002</td>\n",
              "      <td>296.790009</td>\n",
              "      <td>294.880005</td>\n",
              "      <td>78293900.0</td>\n",
              "      <td>294.880005</td>\n",
              "    </tr>\n",
              "    <tr>\n",
              "      <th>2020-05-22</th>\n",
              "      <td>295.630005</td>\n",
              "      <td>293.220001</td>\n",
              "      <td>294.570007</td>\n",
              "      <td>295.440002</td>\n",
              "      <td>63701600.0</td>\n",
              "      <td>295.440002</td>\n",
              "    </tr>\n",
              "  </tbody>\n",
              "</table>\n",
              "</div>"
            ],
            "text/plain": [
              "                  High         Low  ...       Volume   Adj Close\n",
              "Date                                ...                         \n",
              "2020-05-18  296.750000  292.700012  ...  120320200.0  295.000000\n",
              "2020-05-19  296.209991  291.950012  ...   95189300.0  291.970001\n",
              "2020-05-20  297.869995  295.570007  ...   85861700.0  296.929993\n",
              "2020-05-21  297.670013  293.690002  ...   78293900.0  294.880005\n",
              "2020-05-22  295.630005  293.220001  ...   63701600.0  295.440002\n",
              "\n",
              "[5 rows x 6 columns]"
            ]
          },
          "metadata": {
            "tags": []
          },
          "execution_count": 3
        }
      ]
    },
    {
      "cell_type": "code",
      "metadata": {
        "id": "k91vPC5KHLut",
        "colab_type": "code",
        "colab": {
          "base_uri": "https://localhost:8080/",
          "height": 265
        },
        "outputId": "c9ec2357-136f-4b50-a17c-593ed55df1d8"
      },
      "source": [
        "plt.plot(df['Adj Close'])\n",
        "plt.show()"
      ],
      "execution_count": null,
      "outputs": [
        {
          "output_type": "display_data",
          "data": {
            "image/png": "[encoded data removed]",
            "text/plain": [
              "<Figure size 432x288 with 1 Axes>"
            ]
          },
          "metadata": {
            "tags": [],
            "needs_background": "light"
          }
        }
      ]
    },
    {
      "cell_type": "code",
      "metadata": {
        "id": "JGa0mQfyIZQQ",
        "colab_type": "code",
        "colab": {
          "base_uri": "https://localhost:8080/",
          "height": 34
        },
        "outputId": "1e482dd2-de5d-45cc-bffa-a3ed84d4097c"
      },
      "source": [
        "df.shape[0]"
      ],
      "execution_count": null,
      "outputs": [
        {
          "output_type": "execute_result",
          "data": {
            "text/plain": [
              "1105"
            ]
          },
          "metadata": {
            "tags": []
          },
          "execution_count": 5
        }
      ]
    },
    {
      "cell_type": "code",
      "metadata": {
        "id": "5Bu3sSlFH7jd",
        "colab_type": "code",
        "colab": {}
      },
      "source": [
        "x = np.arange(0, df.shape[0]).reshape(-1, 1)\n",
        "y = df['Adj Close'].to_numpy()"
      ],
      "execution_count": null,
      "outputs": []
    },
    {
      "cell_type": "code",
      "metadata": {
        "id": "GOPGXTTuImso",
        "colab_type": "code",
        "colab": {}
      },
      "source": [
        "regression = LinearRegression().fit(x, y)"
      ],
      "execution_count": null,
      "outputs": []
    },
    {
      "cell_type": "code",
      "metadata": {
        "id": "hhGdlkePI1L8",
        "colab_type": "code",
        "colab": {
          "base_uri": "https://localhost:8080/",
          "height": 34
        },
        "outputId": "e62e08e3-4a2e-4a36-bae6-869c1fba33e3"
      },
      "source": [
        "regression.score(x, y)"
      ],
      "execution_count": null,
      "outputs": [
        {
          "output_type": "execute_result",
          "data": {
            "text/plain": [
              "0.8807804575364676"
            ]
          },
          "metadata": {
            "tags": []
          },
          "execution_count": 8
        }
      ]
    },
    {
      "cell_type": "code",
      "metadata": {
        "id": "hryk4oOXI5hk",
        "colab_type": "code",
        "colab": {
          "base_uri": "https://localhost:8080/",
          "height": 51
        },
        "outputId": "d6931fee-c4d2-4c40-e827-5d38440052b7"
      },
      "source": [
        "m = regression.coef_[0]\n",
        "b = regression.intercept_\n",
        "print('m: ', m)\n",
        "print('b: ', b)"
      ],
      "execution_count": null,
      "outputs": [
        {
          "output_type": "stream",
          "text": [
            "m:  0.11497304121291517\n",
            "b:  185.25661952895905\n"
          ],
          "name": "stdout"
        }
      ]
    },
    {
      "cell_type": "code",
      "metadata": {
        "id": "wnqO5ymoJQJW",
        "colab_type": "code",
        "colab": {}
      },
      "source": [
        "x_fin = np.linspace(0, df.shape[0], df.shape[0])\n",
        "y_func = m*x_fin + b"
      ],
      "execution_count": null,
      "outputs": []
    },
    {
      "cell_type": "code",
      "metadata": {
        "id": "7Tah5tayJuY6",
        "colab_type": "code",
        "colab": {
          "base_uri": "https://localhost:8080/",
          "height": 265
        },
        "outputId": "937b14c5-978a-4e2d-ed61-4644777e0125"
      },
      "source": [
        "plt.plot(x_fin, y_func, '-r', label = 'lin_reg')\n",
        "plt.legend(loc = 'lower right')\n",
        "plt.show()"
      ],
      "execution_count": null,
      "outputs": [
        {
          "output_type": "display_data",
          "data": {
            "image/png": "[encoded data removed]",
            "text/plain": [
              "<Figure size 432x288 with 1 Axes>"
            ]
          },
          "metadata": {
            "tags": [],
            "needs_background": "light"
          }
        }
      ]
    },
    {
      "cell_type": "code",
      "metadata": {
        "id": "94ME77yaJ8l8",
        "colab_type": "code",
        "colab": {
          "base_uri": "https://localhost:8080/",
          "height": 265
        },
        "outputId": "00229f01-4582-40de-8b5e-bf4c223924e1"
      },
      "source": [
        "plt.plot(x, df['Adj Close'], label = 'SPY')\n",
        "plt.plot(x_fin, y_func, '-r', label = 'lin_reg')\n",
        "plt.legend(loc = 'lower right')\n",
        "plt.show()"
      ],
      "execution_count": null,
      "outputs": [
        {
          "output_type": "display_data",
          "data": {
            "image/png": "[encoded data removed]",
            "text/plain": [
              "<Figure size 432x288 with 1 Axes>"
            ]
          },
          "metadata": {
            "tags": [],
            "needs_background": "light"
          }
        }
      ]
    },
    {
      "cell_type": "code",
      "metadata": {
        "id": "RkPIWfJgKM9g",
        "colab_type": "code",
        "colab": {}
      },
      "source": [
        ""
      ],
      "execution_count": null,
      "outputs": []
    }
  ]
}