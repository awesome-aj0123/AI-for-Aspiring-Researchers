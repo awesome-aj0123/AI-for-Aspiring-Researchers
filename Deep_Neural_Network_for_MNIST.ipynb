{
  "nbformat": 4,
  "nbformat_minor": 0,
  "metadata": {
    "colab": {
      "name": "Deep Neural Network for MNIST",
      "provenance": []
    },
    "kernelspec": {
      "name": "python3",
      "display_name": "Python 3"
    }
  },
  "cells": [
    {
      "cell_type": "code",
      "metadata": {
        "id": "KoUXcTsTjVaM",
        "colab_type": "code",
        "colab": {}
      },
      "source": [
        "import tensorflow as tf\n",
        "import matplotlib.pyplot as plt\n",
        "from tensorflow.keras import datasets, layers, models\n",
        "from keras.layers import Flatten, Dense"
      ],
      "execution_count": null,
      "outputs": []
    },
    {
      "cell_type": "code",
      "metadata": {
        "id": "XLDzkQJHkZiI",
        "colab_type": "code",
        "colab": {
          "base_uri": "https://localhost:8080/",
          "height": 50
        },
        "outputId": "868a776c-d295-4799-e983-0398d64b9623"
      },
      "source": [
        "(train_x, train_y), (test_x, test_y) = datasets.mnist.load_data()\n",
        "\n",
        "# Normalize pixel between 0 and 1\n",
        "train_x, test_x = train_x/255.0, test_x/255.0"
      ],
      "execution_count": null,
      "outputs": [
        {
          "output_type": "stream",
          "text": [
            "Downloading data from https://storage.googleapis.com/tensorflow/tf-keras-datasets/mnist.npz\n",
            "11493376/11490434 [==============================] - 0s 0us/step\n"
          ],
          "name": "stdout"
        }
      ]
    },
    {
      "cell_type": "code",
      "metadata": {
        "id": "MUrWTxIAk-U-",
        "colab_type": "code",
        "colab": {
          "base_uri": "https://localhost:8080/",
          "height": 265
        },
        "outputId": "b43239f2-fcd3-4079-81a1-bbb5d0204b98"
      },
      "source": [
        "plt.imshow(train_x[1], cmap = plt.get_cmap('gray'))\n",
        "plt.show()"
      ],
      "execution_count": null,
      "outputs": [
        {
          "output_type": "display_data",
          "data": {
            "image/png": "[encoded data removed]",
            "text/plain": [
              "<Figure size 432x288 with 1 Axes>"
            ]
          },
          "metadata": {
            "tags": [],
            "needs_background": "light"
          }
        }
      ]
    },
    {
      "cell_type": "code",
      "metadata": {
        "id": "EYB_6l7mlF15",
        "colab_type": "code",
        "colab": {
          "base_uri": "https://localhost:8080/",
          "height": 521
        },
        "outputId": "e214dd37-82c6-4027-e385-c6cb1db3877f"
      },
      "source": [
        "learning_rate = 0.01\n",
        "dropout_1 = 0.2\n",
        "dropout_2 = 0.2\n",
        "dropout_3 = 0.2\n",
        "batch_size = 128\n",
        "\n",
        "# create deep neural network\n",
        "model = models.Sequential()\n",
        "model.add(layers.Flatten(input_shape = (28, 28)))\n",
        "model.add(layers.Dense(128, activation='relu'))\n",
        "model.add(layers.Dropout(dropout_1))\n",
        "model.add(layers.Dense(64, activation='relu'))\n",
        "model.add(layers.Dropout(dropout_2))\n",
        "model.add(layers.Dense(32, activation='relu'))\n",
        "model.add(layers.Dropout(dropout_3))\n",
        "model.add(layers.Dense(10, activation='softmax'))\n",
        "\n",
        "optimizer = tf.optimizers.Adam(learning_rate=learning_rate)\n",
        "model.compile(optimizer = optimizer,\n",
        "              loss = 'sparse_categorical_crossentropy',\n",
        "              metrics = ['accuracy'])\n",
        "\n",
        "epochs = 15\n",
        "history = model.fit(train_x, train_y, batch_size = batch_size, epochs = epochs, validation_data = (test_x, test_y))"
      ],
      "execution_count": null,
      "outputs": [
        {
          "output_type": "stream",
          "text": [
            "Epoch 1/15\n",
            "469/469 [==============================] - 2s 4ms/step - loss: 0.4452 - accuracy: 0.8717 - val_loss: 0.2383 - val_accuracy: 0.9307\n",
            "Epoch 2/15\n",
            "469/469 [==============================] - 2s 4ms/step - loss: 0.2644 - accuracy: 0.9283 - val_loss: 0.1600 - val_accuracy: 0.9562\n",
            "Epoch 3/15\n",
            "469/469 [==============================] - 2s 4ms/step - loss: 0.2298 - accuracy: 0.9391 - val_loss: 0.1416 - val_accuracy: 0.9600\n",
            "Epoch 4/15\n",
            "469/469 [==============================] - 2s 4ms/step - loss: 0.2199 - accuracy: 0.9407 - val_loss: 0.1452 - val_accuracy: 0.9617\n",
            "Epoch 5/15\n",
            "469/469 [==============================] - 2s 4ms/step - loss: 0.2009 - accuracy: 0.9474 - val_loss: 0.1491 - val_accuracy: 0.9624\n",
            "Epoch 6/15\n",
            "469/469 [==============================] - 2s 4ms/step - loss: 0.1942 - accuracy: 0.9489 - val_loss: 0.1436 - val_accuracy: 0.9633\n",
            "Epoch 7/15\n",
            "469/469 [==============================] - 2s 4ms/step - loss: 0.1885 - accuracy: 0.9506 - val_loss: 0.1406 - val_accuracy: 0.9652\n",
            "Epoch 8/15\n",
            "469/469 [==============================] - 2s 4ms/step - loss: 0.1907 - accuracy: 0.9492 - val_loss: 0.1346 - val_accuracy: 0.9681\n",
            "Epoch 9/15\n",
            "469/469 [==============================] - 2s 4ms/step - loss: 0.1821 - accuracy: 0.9528 - val_loss: 0.1285 - val_accuracy: 0.9678\n",
            "Epoch 10/15\n",
            "469/469 [==============================] - 2s 4ms/step - loss: 0.1724 - accuracy: 0.9546 - val_loss: 0.1262 - val_accuracy: 0.9695\n",
            "Epoch 11/15\n",
            "469/469 [==============================] - 2s 4ms/step - loss: 0.1742 - accuracy: 0.9538 - val_loss: 0.1425 - val_accuracy: 0.9668\n",
            "Epoch 12/15\n",
            "469/469 [==============================] - 2s 4ms/step - loss: 0.1692 - accuracy: 0.9549 - val_loss: 0.1559 - val_accuracy: 0.9646\n",
            "Epoch 13/15\n",
            "469/469 [==============================] - 2s 4ms/step - loss: 0.1738 - accuracy: 0.9549 - val_loss: 0.1329 - val_accuracy: 0.9681\n",
            "Epoch 14/15\n",
            "469/469 [==============================] - 2s 4ms/step - loss: 0.1666 - accuracy: 0.9569 - val_loss: 0.1352 - val_accuracy: 0.9667\n",
            "Epoch 15/15\n",
            "469/469 [==============================] - 2s 4ms/step - loss: 0.1712 - accuracy: 0.9551 - val_loss: 0.1406 - val_accuracy: 0.9692\n"
          ],
          "name": "stdout"
        }
      ]
    },
    {
      "cell_type": "code",
      "metadata": {
        "id": "TgtR05DWnkpe",
        "colab_type": "code",
        "colab": {
          "base_uri": "https://localhost:8080/",
          "height": 265
        },
        "outputId": "cd4427ca-cea6-4701-e0cd-d2ba8422baa0"
      },
      "source": [
        "plt.plot(history.history['val_accuracy'])\n",
        "plt.show()"
      ],
      "execution_count": null,
      "outputs": [
        {
          "output_type": "display_data",
          "data": {
            "image/png": "[encoded data removed]",
            "text/plain": [
              "<Figure size 432x288 with 1 Axes>"
            ]
          },
          "metadata": {
            "tags": [],
            "needs_background": "light"
          }
        }
      ]
    },
    {
      "cell_type": "code",
      "metadata": {
        "id": "3_yCAG3JoAL_",
        "colab_type": "code",
        "colab": {}
      },
      "source": [
        ""
      ],
      "execution_count": null,
      "outputs": []
    }
  ]
}