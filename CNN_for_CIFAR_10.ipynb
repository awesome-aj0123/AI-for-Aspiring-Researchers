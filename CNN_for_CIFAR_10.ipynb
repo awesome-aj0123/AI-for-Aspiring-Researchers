{
  "nbformat": 4,
  "nbformat_minor": 0,
  "metadata": {
    "colab": {
      "name": "CNN for CIFAR-10",
      "provenance": []
    },
    "kernelspec": {
      "name": "python3",
      "display_name": "Python 3"
    },
    "accelerator": "GPU"
  },
  "cells": [
    {
      "cell_type": "code",
      "metadata": {
        "id": "iimcCps0MCsI",
        "colab_type": "code",
        "colab": {}
      },
      "source": [
        "import tensorflow as tf\n",
        "import numpy as np\n",
        "import matplotlib.pyplot as plt\n",
        "from tensorflow.keras import datasets, layers, models"
      ],
      "execution_count": null,
      "outputs": []
    },
    {
      "cell_type": "code",
      "metadata": {
        "id": "zVQQGAwCMx0A",
        "colab_type": "code",
        "colab": {
          "base_uri": "https://localhost:8080/",
          "height": 50
        },
        "outputId": "b789e313-b5d8-456d-c341-2c187f55b7a6"
      },
      "source": [
        "(x_train, y_train), (x_test, y_test) = datasets.cifar10.load_data()\n",
        "\n",
        "x_train, x_test = x_train/255.0, x_test/255.0"
      ],
      "execution_count": null,
      "outputs": [
        {
          "output_type": "stream",
          "text": [
            "Downloading data from https://www.cs.toronto.edu/~kriz/cifar-10-python.tar.gz\n",
            "170500096/170498071 [==============================] - 6s 0us/step\n"
          ],
          "name": "stdout"
        }
      ]
    },
    {
      "cell_type": "code",
      "metadata": {
        "id": "-E-6U6y9NKBX",
        "colab_type": "code",
        "colab": {
          "base_uri": "https://localhost:8080/",
          "height": 266
        },
        "outputId": "cc3116be-5d8e-40cc-a423-d7d16364b9bd"
      },
      "source": [
        "plt.imshow(x_train[1])\n",
        "plt.show()"
      ],
      "execution_count": null,
      "outputs": [
        {
          "output_type": "display_data",
          "data": {
            "image/png": "[encoded data removed]",
            "text/plain": [
              "<Figure size 432x288 with 1 Axes>"
            ]
          },
          "metadata": {
            "tags": [],
            "needs_background": "light"
          }
        }
      ]
    },
    {
      "cell_type": "code",
      "metadata": {
        "id": "eBk7A2rINSSw",
        "colab_type": "code",
        "colab": {
          "base_uri": "https://localhost:8080/",
          "height": 353
        },
        "outputId": "7e385a59-5e47-4821-9992-4265099342ab"
      },
      "source": [
        "learning_rate = 0.005\n",
        "dropout_1 = 0.1\n",
        "dropout_2 = 0.1\n",
        "batch_size = 128\n",
        "\n",
        "model = models.Sequential()\n",
        "model.add(layers.Conv2D(32, (2, 2), activation='relu', input_shape = (32, 32, 3)))\n",
        "model.add(layers.MaxPooling2D((2, 2)))\n",
        "model.add(layers.Dropout(dropout_1))\n",
        "model.add(layers.Conv2D(64, (3, 3), activation='relu'))\n",
        "model.add(layers.MaxPooling2D((2, 2)))\n",
        "model.add(layers.Dropout(dropout_2))\n",
        "model.add(layers.Conv2D(64, (3, 3), activation='relu'))\n",
        "model.add(layers.Flatten())\n",
        "model.add(layers.Dense(64, activation='relu'))\n",
        "model.add(layers.Dense(10, activation='softmax'))\n",
        "\n",
        "optimizer = tf.optimizers.Adam(learning_rate=learning_rate)\n",
        "\n",
        "model.compile(optimizer = optimizer,\n",
        "              loss = 'sparse_categorical_crossentropy',\n",
        "              metrics = ['accuracy'])\n",
        "\n",
        "epochs = 10\n",
        "history = model.fit(x_train, y_train, batch_size = batch_size, epochs = epochs,\n",
        "                    validation_data = (x_test, y_test))"
      ],
      "execution_count": null,
      "outputs": [
        {
          "output_type": "stream",
          "text": [
            "Epoch 1/10\n",
            "391/391 [==============================] - 2s 6ms/step - loss: 1.6402 - accuracy: 0.3881 - val_loss: 1.3457 - val_accuracy: 0.5125\n",
            "Epoch 2/10\n",
            "391/391 [==============================] - 2s 5ms/step - loss: 1.2932 - accuracy: 0.5349 - val_loss: 1.2298 - val_accuracy: 0.5578\n",
            "Epoch 3/10\n",
            "391/391 [==============================] - 2s 5ms/step - loss: 1.1872 - accuracy: 0.5738 - val_loss: 1.2021 - val_accuracy: 0.5729\n",
            "Epoch 4/10\n",
            "391/391 [==============================] - 2s 5ms/step - loss: 1.1230 - accuracy: 0.6011 - val_loss: 1.0807 - val_accuracy: 0.6188\n",
            "Epoch 5/10\n",
            "391/391 [==============================] - 2s 5ms/step - loss: 1.0703 - accuracy: 0.6211 - val_loss: 1.0520 - val_accuracy: 0.6224\n",
            "Epoch 6/10\n",
            "391/391 [==============================] - 2s 5ms/step - loss: 1.0294 - accuracy: 0.6353 - val_loss: 1.0149 - val_accuracy: 0.6387\n",
            "Epoch 7/10\n",
            "391/391 [==============================] - 2s 5ms/step - loss: 1.0131 - accuracy: 0.6425 - val_loss: 1.0023 - val_accuracy: 0.6497\n",
            "Epoch 8/10\n",
            "391/391 [==============================] - 2s 5ms/step - loss: 0.9827 - accuracy: 0.6541 - val_loss: 1.0130 - val_accuracy: 0.6418\n",
            "Epoch 9/10\n",
            "391/391 [==============================] - 2s 5ms/step - loss: 0.9710 - accuracy: 0.6600 - val_loss: 1.0245 - val_accuracy: 0.6422\n",
            "Epoch 10/10\n",
            "391/391 [==============================] - 2s 5ms/step - loss: 0.9530 - accuracy: 0.6634 - val_loss: 0.9616 - val_accuracy: 0.6623\n"
          ],
          "name": "stdout"
        }
      ]
    },
    {
      "cell_type": "code",
      "metadata": {
        "id": "n0pq6Lu0Pgdb",
        "colab_type": "code",
        "colab": {
          "base_uri": "https://localhost:8080/",
          "height": 265
        },
        "outputId": "f0d5e06a-913c-48e2-8be6-5326a61d6769"
      },
      "source": [
        "plt.plot(history.history['val_accuracy'])\n",
        "plt.show()"
      ],
      "execution_count": null,
      "outputs": [
        {
          "output_type": "display_data",
          "data": {
            "image/png": "[encoded data removed]",
            "text/plain": [
              "<Figure size 432x288 with 1 Axes>"
            ]
          },
          "metadata": {
            "tags": [],
            "needs_background": "light"
          }
        }
      ]
    },
    {
      "cell_type": "code",
      "metadata": {
        "id": "lVM71IDRQM6I",
        "colab_type": "code",
        "colab": {}
      },
      "source": [
        ""
      ],
      "execution_count": null,
      "outputs": []
    }
  ]
}